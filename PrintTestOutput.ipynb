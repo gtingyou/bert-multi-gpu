{
 "cells": [
  {
   "cell_type": "code",
   "execution_count": 1,
   "metadata": {
    "scrolled": true
   },
   "outputs": [],
   "source": [
    "import pandas as pd"
   ]
  },
  {
   "cell_type": "code",
   "execution_count": 41,
   "metadata": {},
   "outputs": [],
   "source": [
    "ANSWER_PATH = '/home/u4839782/bert-multi-gpu/data/news_paragraph_classification_2/0608_paragraph/test.csv'\n",
    "PREDICTED_PATH = '/home/u4839782/bert-multi-gpu/test_output/news_paragraph_classification_2/0608_paragraph/test_results.tsv'"
   ]
  },
  {
   "cell_type": "markdown",
   "metadata": {},
   "source": [
    "## get predicted answer"
   ]
  },
  {
   "cell_type": "code",
   "execution_count": 42,
   "metadata": {},
   "outputs": [],
   "source": [
    "df_test_predict = pd.read_csv(PREDICTED_PATH, sep='\\t', header=None)"
   ]
  },
  {
   "cell_type": "code",
   "execution_count": 43,
   "metadata": {
    "scrolled": true
   },
   "outputs": [],
   "source": [
    "class_0 = df_test_predict[0].values.tolist()\n",
    "class_1 = df_test_predict[1].values.tolist()\n",
    "# class_2 = df_test_predict[2].values.tolist()"
   ]
  },
  {
   "cell_type": "markdown",
   "metadata": {},
   "source": [
    "## get test answer"
   ]
  },
  {
   "cell_type": "code",
   "execution_count": 44,
   "metadata": {},
   "outputs": [],
   "source": [
    "df_test_answer = pd.read_csv(ANSWER_PATH, header=0)"
   ]
  },
  {
   "cell_type": "code",
   "execution_count": 45,
   "metadata": {
    "scrolled": false
   },
   "outputs": [
    {
     "data": {
      "text/html": [
       "<div>\n",
       "<style scoped>\n",
       "    .dataframe tbody tr th:only-of-type {\n",
       "        vertical-align: middle;\n",
       "    }\n",
       "\n",
       "    .dataframe tbody tr th {\n",
       "        vertical-align: top;\n",
       "    }\n",
       "\n",
       "    .dataframe thead th {\n",
       "        text-align: right;\n",
       "    }\n",
       "</style>\n",
       "<table border=\"1\" class=\"dataframe\">\n",
       "  <thead>\n",
       "    <tr style=\"text-align: right;\">\n",
       "      <th></th>\n",
       "      <th>paragraph</th>\n",
       "      <th>syn_paragraph</th>\n",
       "      <th>label</th>\n",
       "    </tr>\n",
       "  </thead>\n",
       "  <tbody>\n",
       "    <tr>\n",
       "      <td>0</td>\n",
       "      <td>湖南郴州發生「大頭娃娃」事件，引發大陸家長恐慌，紛紛去仔細看了孩子奶粉罐上面到底寫什麼，結果...</td>\n",
       "      <td>東京都知事 小池百合子：「新宿地區的餐飲、接待業相關確診很多。很多人不喜歡疫調上註明(風化區...</td>\n",
       "      <td>1</td>\n",
       "    </tr>\n",
       "    <tr>\n",
       "      <td>1</td>\n",
       "      <td>▲美國國務院旗下的亞太媒體中心在推特上秀出台灣國旗。（圖／取自推特U.S. Asia Pac...</td>\n",
       "      <td>祝壽大典沿用祭天古禮，主辦單位在廟前廣場搭起一座天壇，典禮完全遵循古制，依序向媽祖上香、獻花...</td>\n",
       "      <td>1</td>\n",
       "    </tr>\n",
       "    <tr>\n",
       "      <td>2</td>\n",
       "      <td>南韓35歲女星徐智慧，去年在神劇《愛的迫降》中，以北韓富家女徐丹一角爆紅，近日再度接下新作品...</td>\n",
       "      <td>至於是否會延攬高雄市府團隊中的新北市舊臣回鍋，如前新北市捷運局長、現任高雄市海洋局長趙紹廉，...</td>\n",
       "      <td>1</td>\n",
       "    </tr>\n",
       "  </tbody>\n",
       "</table>\n",
       "</div>"
      ],
      "text/plain": [
       "                                           paragraph  \\\n",
       "0  湖南郴州發生「大頭娃娃」事件，引發大陸家長恐慌，紛紛去仔細看了孩子奶粉罐上面到底寫什麼，結果...   \n",
       "1  ▲美國國務院旗下的亞太媒體中心在推特上秀出台灣國旗。（圖／取自推特U.S. Asia Pac...   \n",
       "2  南韓35歲女星徐智慧，去年在神劇《愛的迫降》中，以北韓富家女徐丹一角爆紅，近日再度接下新作品...   \n",
       "\n",
       "                                       syn_paragraph  label  \n",
       "0  東京都知事 小池百合子：「新宿地區的餐飲、接待業相關確診很多。很多人不喜歡疫調上註明(風化區...      1  \n",
       "1  祝壽大典沿用祭天古禮，主辦單位在廟前廣場搭起一座天壇，典禮完全遵循古制，依序向媽祖上香、獻花...      1  \n",
       "2  至於是否會延攬高雄市府團隊中的新北市舊臣回鍋，如前新北市捷運局長、現任高雄市海洋局長趙紹廉，...      1  "
      ]
     },
     "execution_count": 45,
     "metadata": {},
     "output_type": "execute_result"
    }
   ],
   "source": [
    "df_test_answer.head(3)"
   ]
  },
  {
   "cell_type": "code",
   "execution_count": 46,
   "metadata": {
    "scrolled": true
   },
   "outputs": [
    {
     "name": "stdout",
     "output_type": "stream",
     "text": [
      "# of testing data prediction = 8630\n",
      "# of testing data answer = 8630\n"
     ]
    }
   ],
   "source": [
    "print('# of testing data prediction =', len(df_test_predict))\n",
    "print('# of testing data answer =', len(df_test_answer))"
   ]
  },
  {
   "cell_type": "code",
   "execution_count": 47,
   "metadata": {
    "scrolled": true
   },
   "outputs": [
    {
     "name": "stdout",
     "output_type": "stream",
     "text": [
      "# of label 0 = 4315 \n",
      "# of label 1 = 4315 \n",
      "# of label 2 = 0\n"
     ]
    }
   ],
   "source": [
    "print('# of label 0 = %d \\n# of label 1 = %d \\n# of label 2 = %d' \n",
    "      %(len(df_test_answer[df_test_answer['label']==0]), \n",
    "        len(df_test_answer[df_test_answer['label']==1]), \n",
    "        len(df_test_answer[df_test_answer['label']==2]))\n",
    "     )"
   ]
  },
  {
   "cell_type": "markdown",
   "metadata": {},
   "source": [
    "### 2 label (0,1) classification"
   ]
  },
  {
   "cell_type": "code",
   "execution_count": 37,
   "metadata": {},
   "outputs": [],
   "source": [
    "test_answer = df_test_answer['label'].values.tolist()"
   ]
  },
  {
   "cell_type": "code",
   "execution_count": 38,
   "metadata": {},
   "outputs": [],
   "source": [
    "correct = 0\n",
    "for i in range(len(test_answer)):\n",
    "    mylist = [class_0[i], class_1[i]]\n",
    "#     print('predicted', mylist.index(max(mylist)), ', answer', test_answer[i])\n",
    "    if mylist.index(max(mylist)) == test_answer[i]:\n",
    "        correct += 1"
   ]
  },
  {
   "cell_type": "code",
   "execution_count": 39,
   "metadata": {},
   "outputs": [
    {
     "name": "stdout",
     "output_type": "stream",
     "text": [
      "test accuracy:  0.994547134935305\n"
     ]
    }
   ],
   "source": [
    "print('test accuracy: ', correct/len(test_answer))"
   ]
  },
  {
   "cell_type": "code",
   "execution_count": 40,
   "metadata": {},
   "outputs": [
    {
     "data": {
      "text/plain": [
       "(10820, 10820)"
      ]
     },
     "execution_count": 40,
     "metadata": {},
     "output_type": "execute_result"
    }
   ],
   "source": [
    "len(test_answer), len(class_0)"
   ]
  },
  {
   "cell_type": "markdown",
   "metadata": {},
   "source": [
    "### 3 label (0,1,2) classification"
   ]
  },
  {
   "cell_type": "code",
   "execution_count": 14,
   "metadata": {},
   "outputs": [],
   "source": [
    "test_answer = df1['label'].values.tolist()"
   ]
  },
  {
   "cell_type": "code",
   "execution_count": 15,
   "metadata": {
    "scrolled": true
   },
   "outputs": [],
   "source": [
    "correct = 0\n",
    "for i in range(len(test_answer)):\n",
    "    mylist = [class_0[i], class_1[i], class_2[i]]\n",
    "#     print('predicted', mylist.index(max(mylist)), ', answer', test_answer[i])\n",
    "    if mylist.index(max(mylist)) == test_answer[i]:\n",
    "        correct += 1"
   ]
  },
  {
   "cell_type": "code",
   "execution_count": 16,
   "metadata": {},
   "outputs": [
    {
     "name": "stdout",
     "output_type": "stream",
     "text": [
      "test accuracy:  0.9925821264570823\n"
     ]
    }
   ],
   "source": [
    "print('test accuracy: ', correct/len(test_answer))"
   ]
  },
  {
   "cell_type": "code",
   "execution_count": 17,
   "metadata": {},
   "outputs": [
    {
     "name": "stdout",
     "output_type": "stream",
     "text": [
      "11324\n"
     ]
    }
   ],
   "source": [
    "print(len(test_answer))"
   ]
  },
  {
   "cell_type": "code",
   "execution_count": null,
   "metadata": {},
   "outputs": [],
   "source": []
  }
 ],
 "metadata": {
  "kernelspec": {
   "display_name": "Python 3",
   "language": "python",
   "name": "python3"
  },
  "language_info": {
   "codemirror_mode": {
    "name": "ipython",
    "version": 3
   },
   "file_extension": ".py",
   "mimetype": "text/x-python",
   "name": "python",
   "nbconvert_exporter": "python",
   "pygments_lexer": "ipython3",
   "version": "3.7.3"
  }
 },
 "nbformat": 4,
 "nbformat_minor": 2
}
